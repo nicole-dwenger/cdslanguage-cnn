{
 "cells": [
  {
   "cell_type": "code",
   "execution_count": 1,
   "metadata": {},
   "outputs": [],
   "source": [
    "import os\n",
    "import argparse\n",
    "import pandas as pd\n",
    "import numpy as np\n",
    "from tqdm import tqdm\n",
    "\n",
    "import spacy\n",
    "nlp = spacy.load(\"en_core_web_sm\", disable=[\"ner\"])"
   ]
  },
  {
   "cell_type": "code",
   "execution_count": 4,
   "metadata": {},
   "outputs": [
    {
     "name": "stdout",
     "output_type": "stream",
     "text": [
      "(23911, 6)\n"
     ]
    }
   ],
   "source": [
    "file = os.path.join(\"..\", \"data\", \"Game_of_Thrones_Script.csv\")\n",
    "data = pd.read_csv(file)"
   ]
  },
  {
   "cell_type": "code",
   "execution_count": 76,
   "metadata": {},
   "outputs": [],
   "source": [
    "no_sentence = [\"COLD OPEN\", \"CREDITS\", \"EPISODE\", \"SEASON\"]\n",
    "cleaned = data[data[\"Sentence\"].isin(no_sentence) == False]"
   ]
  },
  {
   "cell_type": "code",
   "execution_count": 77,
   "metadata": {},
   "outputs": [],
   "source": [
    "def split_sentences(text):\n",
    "    # apply spacy languae model\n",
    "    doc = nlp(text)\n",
    "    # split sentences and append to list\n",
    "    sentences = [sent.string.strip() for sent in doc.sents]\n",
    "    # return list of sentences\n",
    "    return sentences"
   ]
  },
  {
   "cell_type": "code",
   "execution_count": 78,
   "metadata": {},
   "outputs": [],
   "source": [
    "def chunk_sentences(sentences, chunk_size):\n",
    "    chunks = []\n",
    "    for i in range(0, len(sentences), chunk_size):\n",
    "        chunks.append(' '.join(sentences[i:i+chunk_size]))    \n",
    "    return chunks"
   ]
  },
  {
   "cell_type": "code",
   "execution_count": 82,
   "metadata": {},
   "outputs": [
    {
     "name": "stderr",
     "output_type": "stream",
     "text": [
      "100%|██████████| 8/8 [10:01<00:00, 75.24s/it]\n"
     ]
    }
   ],
   "source": [
    "out = pd.DataFrame(columns = [\"season\", \"text\"])\n",
    "\n",
    "for season in tqdm(cleaned[\"Season\"].unique()):\n",
    "    season_df = cleaned[cleaned[\"Season\"] == season]\n",
    "    season_texts = season_df[\"Sentence\"].tolist()\n",
    "    \n",
    "    sentences = []\n",
    "    for text in season_texts:\n",
    "        split = split_sentences(text)\n",
    "        sentences.extend(split)\n",
    "\n",
    "    chunks = chunk_sentences(sentences, 10)\n",
    "    \n",
    "    for chunk in chunks:\n",
    "        out = out.append({\"season\": season, \"text\": chunk}, ignore_index = True)"
   ]
  },
  {
   "cell_type": "code",
   "execution_count": 69,
   "metadata": {},
   "outputs": [
    {
     "data": {
      "text/plain": [
       "193"
      ]
     },
     "execution_count": 69,
     "metadata": {},
     "output_type": "execute_result"
    }
   ],
   "source": [
    "len(lengths)"
   ]
  },
  {
   "cell_type": "code",
   "execution_count": null,
   "metadata": {},
   "outputs": [],
   "source": [
    "out.shape()"
   ]
  },
  {
   "cell_type": "code",
   "execution_count": 63,
   "metadata": {},
   "outputs": [],
   "source": [
    "lengths = []\n",
    "for index, row in out.iterrows():\n",
    "    lengths.append(len(row[\"text\"]))"
   ]
  },
  {
   "cell_type": "code",
   "execution_count": 66,
   "metadata": {},
   "outputs": [
    {
     "data": {
      "text/plain": [
       "163"
      ]
     },
     "execution_count": 66,
     "metadata": {},
     "output_type": "execute_result"
    }
   ],
   "source": [
    "lengths.index(9)"
   ]
  },
  {
   "cell_type": "code",
   "execution_count": 72,
   "metadata": {},
   "outputs": [
    {
     "data": {
      "text/plain": [
       "season     Season 6\n",
       "text      Fuck you!\n",
       "Name: 163, dtype: object"
      ]
     },
     "execution_count": 72,
     "metadata": {},
     "output_type": "execute_result"
    }
   ],
   "source": [
    "out.loc[163]"
   ]
  },
  {
   "cell_type": "code",
   "execution_count": 35,
   "metadata": {},
   "outputs": [
    {
     "data": {
      "text/plain": [
       "[[\"I'm a married man.\",\n",
       "  'My wife has suffered a great deal, as you well know.',\n",
       "  \"I don't want her to suffer anymore on my account.\",\n",
       "  'I need to uphold my vows.'],\n",
       " [\"You're a clever man, but you're not half as clever as you think you are.\"],\n",
       " ['For helping me.'],\n",
       " ['You want to go to Winterfell.',\n",
       "  'To fight for the Starks.',\n",
       "  'Go.',\n",
       "  'What is dead may never die.'],\n",
       " [\"What's my name?\"],\n",
       " ['Come.'],\n",
       " [\"Promise me you won't die.\"],\n",
       " ['Then she rules.'],\n",
       " ['Archie, was it?'],\n",
       " ['Looks like a siege, my lady.']]"
      ]
     },
     "execution_count": 35,
     "metadata": {},
     "output_type": "execute_result"
    }
   ],
   "source": [
    "sentence_list[:10]"
   ]
  },
  {
   "cell_type": "code",
   "execution_count": 36,
   "metadata": {},
   "outputs": [],
   "source": [
    "subset_sent = subset.assign(sent_list = sentence_list)"
   ]
  },
  {
   "cell_type": "code",
   "execution_count": 39,
   "metadata": {},
   "outputs": [
    {
     "data": {
      "text/html": [
       "<div>\n",
       "<style scoped>\n",
       "    .dataframe tbody tr th:only-of-type {\n",
       "        vertical-align: middle;\n",
       "    }\n",
       "\n",
       "    .dataframe tbody tr th {\n",
       "        vertical-align: top;\n",
       "    }\n",
       "\n",
       "    .dataframe thead th {\n",
       "        text-align: right;\n",
       "    }\n",
       "</style>\n",
       "<table border=\"1\" class=\"dataframe\">\n",
       "  <thead>\n",
       "    <tr style=\"text-align: right;\">\n",
       "      <th></th>\n",
       "      <th>Release Date</th>\n",
       "      <th>Season</th>\n",
       "      <th>Episode</th>\n",
       "      <th>Episode Title</th>\n",
       "      <th>Name</th>\n",
       "      <th>Sentence</th>\n",
       "      <th>sent_list</th>\n",
       "    </tr>\n",
       "  </thead>\n",
       "  <tbody>\n",
       "    <tr>\n",
       "      <th>11285</th>\n",
       "      <td>2014-04-13</td>\n",
       "      <td>Season 4</td>\n",
       "      <td>Episode 2</td>\n",
       "      <td>The Lion and the Rose</td>\n",
       "      <td>tyrion lannister</td>\n",
       "      <td>I'm a married man. My wife has suffered a grea...</td>\n",
       "      <td>[I'm a married man., My wife has suffered a gr...</td>\n",
       "    </tr>\n",
       "    <tr>\n",
       "      <th>7192</th>\n",
       "      <td>2013-03-31</td>\n",
       "      <td>Season 3</td>\n",
       "      <td>Episode 1</td>\n",
       "      <td>Valar Dohaeris</td>\n",
       "      <td>cersei lannister</td>\n",
       "      <td>You're a clever man, but you're not half as cl...</td>\n",
       "      <td>[You're a clever man, but you're not half as c...</td>\n",
       "    </tr>\n",
       "    <tr>\n",
       "      <th>21046</th>\n",
       "      <td>2017-08-06</td>\n",
       "      <td>Season 7</td>\n",
       "      <td>Episode 4</td>\n",
       "      <td>The Spoils Of War</td>\n",
       "      <td>bran stark</td>\n",
       "      <td>For helping me.</td>\n",
       "      <td>[For helping me.]</td>\n",
       "    </tr>\n",
       "    <tr>\n",
       "      <th>22602</th>\n",
       "      <td>2019-04-14</td>\n",
       "      <td>Season 8</td>\n",
       "      <td>Episode 1</td>\n",
       "      <td>Winterfell</td>\n",
       "      <td>yara greyjoy</td>\n",
       "      <td>You want to go to Winterfell. To fight for the...</td>\n",
       "      <td>[You want to go to Winterfell., To fight for t...</td>\n",
       "    </tr>\n",
       "    <tr>\n",
       "      <th>1290</th>\n",
       "      <td>2011-05-08</td>\n",
       "      <td>Season 1</td>\n",
       "      <td>Episode 4</td>\n",
       "      <td>Cripples, Bastards and Broken Things</td>\n",
       "      <td>jon snow</td>\n",
       "      <td>What's my name?</td>\n",
       "      <td>[What's my name?]</td>\n",
       "    </tr>\n",
       "  </tbody>\n",
       "</table>\n",
       "</div>"
      ],
      "text/plain": [
       "      Release Date    Season    Episode                         Episode Title  \\\n",
       "11285   2014-04-13  Season 4  Episode 2                 The Lion and the Rose   \n",
       "7192    2013-03-31  Season 3  Episode 1                        Valar Dohaeris   \n",
       "21046   2017-08-06  Season 7  Episode 4                     The Spoils Of War   \n",
       "22602   2019-04-14  Season 8  Episode 1                            Winterfell   \n",
       "1290    2011-05-08  Season 1  Episode 4  Cripples, Bastards and Broken Things   \n",
       "\n",
       "                   Name                                           Sentence  \\\n",
       "11285  tyrion lannister  I'm a married man. My wife has suffered a grea...   \n",
       "7192   cersei lannister  You're a clever man, but you're not half as cl...   \n",
       "21046        bran stark                                    For helping me.   \n",
       "22602      yara greyjoy  You want to go to Winterfell. To fight for the...   \n",
       "1290           jon snow                                    What's my name?   \n",
       "\n",
       "                                               sent_list  \n",
       "11285  [I'm a married man., My wife has suffered a gr...  \n",
       "7192   [You're a clever man, but you're not half as c...  \n",
       "21046                                  [For helping me.]  \n",
       "22602  [You want to go to Winterfell., To fight for t...  \n",
       "1290                                   [What's my name?]  "
      ]
     },
     "execution_count": 39,
     "metadata": {},
     "output_type": "execute_result"
    }
   ],
   "source": [
    "subset_sent.head()"
   ]
  },
  {
   "cell_type": "code",
   "execution_count": 40,
   "metadata": {},
   "outputs": [],
   "source": [
    "explode = subset_sent.explode(\"sent_list\")"
   ]
  },
  {
   "cell_type": "code",
   "execution_count": 41,
   "metadata": {},
   "outputs": [
    {
     "data": {
      "text/html": [
       "<div>\n",
       "<style scoped>\n",
       "    .dataframe tbody tr th:only-of-type {\n",
       "        vertical-align: middle;\n",
       "    }\n",
       "\n",
       "    .dataframe tbody tr th {\n",
       "        vertical-align: top;\n",
       "    }\n",
       "\n",
       "    .dataframe thead th {\n",
       "        text-align: right;\n",
       "    }\n",
       "</style>\n",
       "<table border=\"1\" class=\"dataframe\">\n",
       "  <thead>\n",
       "    <tr style=\"text-align: right;\">\n",
       "      <th></th>\n",
       "      <th>Release Date</th>\n",
       "      <th>Season</th>\n",
       "      <th>Episode</th>\n",
       "      <th>Episode Title</th>\n",
       "      <th>Name</th>\n",
       "      <th>Sentence</th>\n",
       "      <th>sent_list</th>\n",
       "    </tr>\n",
       "  </thead>\n",
       "  <tbody>\n",
       "    <tr>\n",
       "      <th>11285</th>\n",
       "      <td>2014-04-13</td>\n",
       "      <td>Season 4</td>\n",
       "      <td>Episode 2</td>\n",
       "      <td>The Lion and the Rose</td>\n",
       "      <td>tyrion lannister</td>\n",
       "      <td>I'm a married man. My wife has suffered a grea...</td>\n",
       "      <td>I'm a married man.</td>\n",
       "    </tr>\n",
       "    <tr>\n",
       "      <th>11285</th>\n",
       "      <td>2014-04-13</td>\n",
       "      <td>Season 4</td>\n",
       "      <td>Episode 2</td>\n",
       "      <td>The Lion and the Rose</td>\n",
       "      <td>tyrion lannister</td>\n",
       "      <td>I'm a married man. My wife has suffered a grea...</td>\n",
       "      <td>My wife has suffered a great deal, as you well...</td>\n",
       "    </tr>\n",
       "    <tr>\n",
       "      <th>11285</th>\n",
       "      <td>2014-04-13</td>\n",
       "      <td>Season 4</td>\n",
       "      <td>Episode 2</td>\n",
       "      <td>The Lion and the Rose</td>\n",
       "      <td>tyrion lannister</td>\n",
       "      <td>I'm a married man. My wife has suffered a grea...</td>\n",
       "      <td>I don't want her to suffer anymore on my account.</td>\n",
       "    </tr>\n",
       "    <tr>\n",
       "      <th>11285</th>\n",
       "      <td>2014-04-13</td>\n",
       "      <td>Season 4</td>\n",
       "      <td>Episode 2</td>\n",
       "      <td>The Lion and the Rose</td>\n",
       "      <td>tyrion lannister</td>\n",
       "      <td>I'm a married man. My wife has suffered a grea...</td>\n",
       "      <td>I need to uphold my vows.</td>\n",
       "    </tr>\n",
       "    <tr>\n",
       "      <th>7192</th>\n",
       "      <td>2013-03-31</td>\n",
       "      <td>Season 3</td>\n",
       "      <td>Episode 1</td>\n",
       "      <td>Valar Dohaeris</td>\n",
       "      <td>cersei lannister</td>\n",
       "      <td>You're a clever man, but you're not half as cl...</td>\n",
       "      <td>You're a clever man, but you're not half as cl...</td>\n",
       "    </tr>\n",
       "  </tbody>\n",
       "</table>\n",
       "</div>"
      ],
      "text/plain": [
       "      Release Date    Season    Episode          Episode Title  \\\n",
       "11285   2014-04-13  Season 4  Episode 2  The Lion and the Rose   \n",
       "11285   2014-04-13  Season 4  Episode 2  The Lion and the Rose   \n",
       "11285   2014-04-13  Season 4  Episode 2  The Lion and the Rose   \n",
       "11285   2014-04-13  Season 4  Episode 2  The Lion and the Rose   \n",
       "7192    2013-03-31  Season 3  Episode 1         Valar Dohaeris   \n",
       "\n",
       "                   Name                                           Sentence  \\\n",
       "11285  tyrion lannister  I'm a married man. My wife has suffered a grea...   \n",
       "11285  tyrion lannister  I'm a married man. My wife has suffered a grea...   \n",
       "11285  tyrion lannister  I'm a married man. My wife has suffered a grea...   \n",
       "11285  tyrion lannister  I'm a married man. My wife has suffered a grea...   \n",
       "7192   cersei lannister  You're a clever man, but you're not half as cl...   \n",
       "\n",
       "                                               sent_list  \n",
       "11285                                 I'm a married man.  \n",
       "11285  My wife has suffered a great deal, as you well...  \n",
       "11285  I don't want her to suffer anymore on my account.  \n",
       "11285                          I need to uphold my vows.  \n",
       "7192   You're a clever man, but you're not half as cl...  "
      ]
     },
     "execution_count": 41,
     "metadata": {},
     "output_type": "execute_result"
    }
   ],
   "source": [
    "explode.head()"
   ]
  },
  {
   "cell_type": "code",
   "execution_count": 46,
   "metadata": {},
   "outputs": [],
   "source": [
    "df = pd.DataFrame(columns=['season', 'text'])"
   ]
  },
  {
   "cell_type": "code",
   "execution_count": 47,
   "metadata": {},
   "outputs": [],
   "source": [
    "chunk_size = 10"
   ]
  },
  {
   "cell_type": "code",
   "execution_count": 52,
   "metadata": {},
   "outputs": [],
   "source": [
    "for season in explode.Season.unique():\n",
    "    sentences = explode[explode[\"Season\"] == season][\"sent_list\"].tolist()\n",
    "    chuncks = []\n",
    "    for i in range(0, len(sentences), 10):\n",
    "        chuncks.append(\" \".join(sentences[i:i+10]))   \n",
    "    for chunk in chuncks:\n",
    "        df = df.append({\"season\": season, \"text\": chunk}, ignore_index = True)"
   ]
  },
  {
   "cell_type": "code",
   "execution_count": 53,
   "metadata": {},
   "outputs": [
    {
     "data": {
      "text/html": [
       "<div>\n",
       "<style scoped>\n",
       "    .dataframe tbody tr th:only-of-type {\n",
       "        vertical-align: middle;\n",
       "    }\n",
       "\n",
       "    .dataframe tbody tr th {\n",
       "        vertical-align: top;\n",
       "    }\n",
       "\n",
       "    .dataframe thead th {\n",
       "        text-align: right;\n",
       "    }\n",
       "</style>\n",
       "<table border=\"1\" class=\"dataframe\">\n",
       "  <thead>\n",
       "    <tr style=\"text-align: right;\">\n",
       "      <th></th>\n",
       "      <th>season</th>\n",
       "      <th>text</th>\n",
       "    </tr>\n",
       "  </thead>\n",
       "  <tbody>\n",
       "    <tr>\n",
       "      <th>0</th>\n",
       "      <td>Season 4</td>\n",
       "      <td>I'm a married man. My wife has suffered a grea...</td>\n",
       "    </tr>\n",
       "    <tr>\n",
       "      <th>1</th>\n",
       "      <td>Season 4</td>\n",
       "      <td>Have they even agreed to the match? No one tel...</td>\n",
       "    </tr>\n",
       "    <tr>\n",
       "      <th>2</th>\n",
       "      <td>Season 4</td>\n",
       "      <td>Please. Please, let me help him. Disgraceful. ...</td>\n",
       "    </tr>\n",
       "    <tr>\n",
       "      <th>3</th>\n",
       "      <td>Season 4</td>\n",
       "      <td>And you didn't have this. Oil! One you don't l...</td>\n",
       "    </tr>\n",
       "    <tr>\n",
       "      <th>4</th>\n",
       "      <td>Season 4</td>\n",
       "      <td>Which is a lot, I imagine. Wars are expensive....</td>\n",
       "    </tr>\n",
       "  </tbody>\n",
       "</table>\n",
       "</div>"
      ],
      "text/plain": [
       "     season                                               text\n",
       "0  Season 4  I'm a married man. My wife has suffered a grea...\n",
       "1  Season 4  Have they even agreed to the match? No one tel...\n",
       "2  Season 4  Please. Please, let me help him. Disgraceful. ...\n",
       "3  Season 4  And you didn't have this. Oil! One you don't l...\n",
       "4  Season 4  Which is a lot, I imagine. Wars are expensive...."
      ]
     },
     "execution_count": 53,
     "metadata": {},
     "output_type": "execute_result"
    }
   ],
   "source": [
    "df.head()"
   ]
  },
  {
   "cell_type": "code",
   "execution_count": 6,
   "metadata": {},
   "outputs": [],
   "source": [
    "file = os.path.join(\"..\", \"data\", \"0_GoT_preprocessed_10.csv\")\n",
    "data = pd.read_csv(file, index_col = 0)"
   ]
  },
  {
   "cell_type": "code",
   "execution_count": 10,
   "metadata": {},
   "outputs": [],
   "source": [
    "lengths = []\n",
    "for index, row in data.iterrows():\n",
    "    length = len(row[\"text\"])\n",
    "    lengths.append(length)"
   ]
  },
  {
   "cell_type": "code",
   "execution_count": 15,
   "metadata": {},
   "outputs": [
    {
     "data": {
      "text/plain": [
       "1987"
      ]
     },
     "execution_count": 15,
     "metadata": {},
     "output_type": "execute_result"
    }
   ],
   "source": [
    "lengths.index(13)"
   ]
  },
  {
   "cell_type": "code",
   "execution_count": 14,
   "metadata": {},
   "outputs": [
    {
     "data": {
      "text/plain": [
       "892"
      ]
     },
     "execution_count": 14,
     "metadata": {},
     "output_type": "execute_result"
    }
   ],
   "source": [
    "max(lengths)"
   ]
  },
  {
   "cell_type": "code",
   "execution_count": 20,
   "metadata": {},
   "outputs": [],
   "source": [
    "test = data[\"text\"].tolist()"
   ]
  },
  {
   "cell_type": "code",
   "execution_count": 22,
   "metadata": {},
   "outputs": [
    {
     "data": {
      "text/plain": [
       "4457"
      ]
     },
     "execution_count": 22,
     "metadata": {},
     "output_type": "execute_result"
    }
   ],
   "source": [
    "len(test)"
   ]
  },
  {
   "cell_type": "code",
   "execution_count": 24,
   "metadata": {},
   "outputs": [
    {
     "data": {
      "text/plain": [
       "(4457, 2)"
      ]
     },
     "execution_count": 24,
     "metadata": {},
     "output_type": "execute_result"
    }
   ],
   "source": [
    "data.shape"
   ]
  },
  {
   "cell_type": "code",
   "execution_count": 25,
   "metadata": {},
   "outputs": [],
   "source": [
    "from sklearn.feature_extraction.text import CountVectorizer"
   ]
  },
  {
   "cell_type": "code",
   "execution_count": 26,
   "metadata": {},
   "outputs": [],
   "source": [
    "vectorizer = CountVectorizer()"
   ]
  },
  {
   "cell_type": "code",
   "execution_count": 30,
   "metadata": {},
   "outputs": [],
   "source": [
    "import os\n",
    "import argparse\n",
    "\n",
    "# Data and Visualisation\n",
    "import pandas as pd\n",
    "import numpy as np\n",
    "import seaborn as sns\n",
    "import matplotlib.pyplot as plt\n",
    "\n",
    "# Sklearn for ML\n",
    "from sklearn import preprocessing\n",
    "from sklearn.feature_extraction.text import CountVectorizer\n",
    "from sklearn.model_selection import train_test_split\n",
    "from sklearn.linear_model import LogisticRegression\n",
    "from sklearn.metrics import classification_report"
   ]
  },
  {
   "cell_type": "code",
   "execution_count": 91,
   "metadata": {},
   "outputs": [],
   "source": [
    "X = data[\"text\"].values\n",
    "y = data[\"season\"].values"
   ]
  },
  {
   "cell_type": "code",
   "execution_count": 92,
   "metadata": {},
   "outputs": [],
   "source": [
    "X_train, X_test, y_train, y_test = train_test_split(X, y, test_size=0.20, random_state=42)"
   ]
  },
  {
   "cell_type": "code",
   "execution_count": 93,
   "metadata": {},
   "outputs": [],
   "source": [
    "def extract_count_features(X_train, X_test):\n",
    "    \n",
    "    vectorizer = CountVectorizer()\n",
    "    X_train_features = vectorizer.fit_transform(X_train)\n",
    "    X_test_features = vectorizer.transform(X_test)\n",
    "    \n",
    "    return X_train_features, X_test_features"
   ]
  },
  {
   "cell_type": "code",
   "execution_count": 94,
   "metadata": {},
   "outputs": [],
   "source": [
    "X_train_features, X_test_features = extract_count_features(X_train, X_test)"
   ]
  },
  {
   "cell_type": "code",
   "execution_count": 95,
   "metadata": {},
   "outputs": [],
   "source": [
    "clf = LogisticRegression(random_state=42, max_iter=1000).fit(X_train_features, y_train)"
   ]
  },
  {
   "cell_type": "code",
   "execution_count": 96,
   "metadata": {},
   "outputs": [],
   "source": [
    "predictions = clf.predict(X_test_features)\n",
    "report = classification_report(y_test, predictions)"
   ]
  },
  {
   "cell_type": "code",
   "execution_count": 97,
   "metadata": {},
   "outputs": [
    {
     "name": "stdout",
     "output_type": "stream",
     "text": [
      "              precision    recall  f1-score   support\n",
      "\n",
      "    Season 1       0.48      0.48      0.48       124\n",
      "    Season 2       0.32      0.37      0.34       153\n",
      "    Season 3       0.26      0.25      0.26       128\n",
      "    Season 4       0.34      0.35      0.34       145\n",
      "    Season 5       0.25      0.29      0.27       106\n",
      "    Season 6       0.33      0.29      0.31        94\n",
      "    Season 7       0.42      0.38      0.40        90\n",
      "    Season 8       0.21      0.13      0.16        52\n",
      "\n",
      "    accuracy                           0.33       892\n",
      "   macro avg       0.33      0.32      0.32       892\n",
      "weighted avg       0.33      0.33      0.33       892\n",
      "\n"
     ]
    }
   ],
   "source": [
    "print(report)"
   ]
  },
  {
   "cell_type": "code",
   "execution_count": 98,
   "metadata": {},
   "outputs": [
    {
     "data": {
      "text/plain": [
       "(892,)"
      ]
     },
     "execution_count": 98,
     "metadata": {},
     "output_type": "execute_result"
    }
   ],
   "source": [
    "predictions.shape"
   ]
  },
  {
   "cell_type": "code",
   "execution_count": null,
   "metadata": {},
   "outputs": [],
   "source": [
    "predictions.expand_dims(predictions)"
   ]
  },
  {
   "cell_type": "code",
   "execution_count": 99,
   "metadata": {},
   "outputs": [],
   "source": [
    "def plot_cm(y_test, y_pred, normalized:bool):\n",
    "    \"\"\"\n",
    "    Plot confusion matrix\n",
    "    \"\"\"\n",
    "    if normalized == False:\n",
    "        cm = pd.crosstab(y_test, y_pred, \n",
    "                            rownames=['Actual'], colnames=['Predicted'])\n",
    "        p = plt.figure(figsize=(10,10));\n",
    "        p = sns.heatmap(cm, annot=True, fmt=\"d\", cbar=False)\n",
    "    elif normalized == True:\n",
    "        cm = pd.crosstab(y_test, y_pred, \n",
    "                               rownames=['Actual'], colnames=['Predicted'], normalize='index')\n",
    "        p = plt.figure(figsize=(10,10));\n",
    "        p = sns.heatmap(cm, annot=True, fmt=\".2f\", cbar=False)\n",
    "\n",
    "        return None"
   ]
  },
  {
   "cell_type": "code",
   "execution_count": 101,
   "metadata": {},
   "outputs": [
    {
     "data": {
      "image/png": "[encoded data removed]",
      "text/plain": [
       "<Figure size 720x720 with 1 Axes>"
      ]
     },
     "metadata": {
      "needs_background": "light"
     },
     "output_type": "display_data"
    }
   ],
   "source": [
    "plot_cm(y_test, predictions, True)"
   ]
  },
  {
   "cell_type": "code",
   "execution_count": null,
   "metadata": {},
   "outputs": [],
   "source": []
  },
  {
   "cell_type": "code",
   "execution_count": 102,
   "metadata": {},
   "outputs": [],
   "source": [
    "test = [[0,1,4,2,], [4,2], [4,5]]"
   ]
  },
  {
   "cell_type": "code",
   "execution_count": 103,
   "metadata": {},
   "outputs": [
    {
     "data": {
      "text/plain": [
       "4"
      ]
     },
     "execution_count": 103,
     "metadata": {},
     "output_type": "execute_result"
    }
   ],
   "source": [
    "len(max(test, key=len))"
   ]
  },
  {
   "cell_type": "code",
   "execution_count": 105,
   "metadata": {},
   "outputs": [
    {
     "data": {
      "text/plain": [
       "[0, 1, 4, 2]"
      ]
     },
     "execution_count": 105,
     "metadata": {},
     "output_type": "execute_result"
    }
   ],
   "source": [
    "max(test, key=len)"
   ]
  },
  {
   "cell_type": "code",
   "execution_count": 111,
   "metadata": {},
   "outputs": [],
   "source": [
    "dict_test = {\"test_accuracy\": 'Geeks', 2: 'For', 3: 'Geeks'}"
   ]
  },
  {
   "cell_type": "code",
   "execution_count": 112,
   "metadata": {},
   "outputs": [
    {
     "data": {
      "text/plain": [
       "{'test_accuracy': 'Geeks', 2: 'For', 3: 'Geeks'}"
      ]
     },
     "execution_count": 112,
     "metadata": {},
     "output_type": "execute_result"
    }
   ],
   "source": [
    "dict_test"
   ]
  },
  {
   "cell_type": "code",
   "execution_count": 113,
   "metadata": {},
   "outputs": [
    {
     "data": {
      "text/plain": [
       "'Geeks'"
      ]
     },
     "execution_count": 113,
     "metadata": {},
     "output_type": "execute_result"
    }
   ],
   "source": [
    "dict_test[\"test_accuracy\"]"
   ]
  },
  {
   "cell_type": "code",
   "execution_count": 114,
   "metadata": {},
   "outputs": [],
   "source": [
    "metric_dictionary = {\n",
    "    \"train_loss\": 2,\n",
    "    \"train_acc\": 3,\n",
    "    \"test_loss\": 5,\n",
    "    \"test_acc\": 1}"
   ]
  },
  {
   "cell_type": "code",
   "execution_count": 122,
   "metadata": {},
   "outputs": [
    {
     "name": "stdout",
     "output_type": "stream",
     "text": [
      "{'train_loss': 2, 'train_acc': 3, 'test_loss': 5, 'test_acc': 1}\n"
     ]
    }
   ],
   "source": [
    "with open('metrics_test.txt', 'w') as f:\n",
    "    print(metric_dictionary)"
   ]
  },
  {
   "cell_type": "code",
   "execution_count": 121,
   "metadata": {},
   "outputs": [
    {
     "ename": "NameError",
     "evalue": "name 'metric_directory' is not defined",
     "output_type": "error",
     "traceback": [
      "\u001b[0;31m---------------------------------------------------------------------------\u001b[0m",
      "\u001b[0;31mNameError\u001b[0m                                 Traceback (most recent call last)",
      "\u001b[0;32m<ipython-input-121-ef036454dd55>\u001b[0m in \u001b[0;36m<module>\u001b[0;34m\u001b[0m\n\u001b[0;32m----> 1\u001b[0;31m \u001b[0mmetric_directory\u001b[0m\u001b[0;34m[\u001b[0m\u001b[0;36m1\u001b[0m\u001b[0;34m]\u001b[0m\u001b[0;34m\u001b[0m\u001b[0;34m\u001b[0m\u001b[0m\n\u001b[0m",
      "\u001b[0;31mNameError\u001b[0m: name 'metric_directory' is not defined"
     ]
    }
   ],
   "source": []
  },
  {
   "cell_type": "code",
   "execution_count": 117,
   "metadata": {},
   "outputs": [],
   "source": [
    "import pprint"
   ]
  },
  {
   "cell_type": "code",
   "execution_count": 124,
   "metadata": {},
   "outputs": [],
   "source": [
    "X = data[\"text\"].values"
   ]
  },
  {
   "cell_type": "code",
   "execution_count": 125,
   "metadata": {},
   "outputs": [
    {
     "data": {
      "text/plain": [
       "numpy.ndarray"
      ]
     },
     "execution_count": 125,
     "metadata": {},
     "output_type": "execute_result"
    }
   ],
   "source": [
    "type(X)"
   ]
  },
  {
   "cell_type": "code",
   "execution_count": 130,
   "metadata": {},
   "outputs": [],
   "source": [
    "import os\n",
    "import numpy as np\n",
    "import pandas as pd\n",
    "import matplotlib.pyplot as plt\n",
    "from contextlib import redirect_stdout\n",
    "\n",
    "# Sklearn ML\n",
    "from sklearn.model_selection import train_test_split\n",
    "from sklearn.preprocessing import LabelBinarizer\n",
    "\n",
    "# Tensorflow CNN\n",
    "os.environ['TF_CPP_MIN_LOG_LEVEL'] = '3'\n",
    "import tensorflow as tf\n",
    "from tensorflow.keras.preprocessing.text import Tokenizer\n",
    "from tensorflow.keras.preprocessing.sequence import pad_sequences\n",
    "from tensorflow.keras.models import Sequential\n",
    "from tensorflow.keras.utils import plot_model"
   ]
  },
  {
   "cell_type": "code",
   "execution_count": 127,
   "metadata": {},
   "outputs": [],
   "source": [
    "X = data[\"text\"].values\n",
    "y = data[\"season\"].values\n",
    "    \n",
    "X_train, X_test, y_train, y_test = train_test_split(X, y, test_size=0.2, random_state=42) "
   ]
  },
  {
   "cell_type": "code",
   "execution_count": 128,
   "metadata": {},
   "outputs": [
    {
     "data": {
      "text/plain": [
       "(3565,)"
      ]
     },
     "execution_count": 128,
     "metadata": {},
     "output_type": "execute_result"
    }
   ],
   "source": [
    "X_train.shape"
   ]
  },
  {
   "cell_type": "code",
   "execution_count": 131,
   "metadata": {},
   "outputs": [],
   "source": [
    "tokenizer = Tokenizer(num_words=5000)\n",
    "tokenizer.fit_on_texts(X_train)\n",
    "\n",
    "# Tokenized training and test data\n",
    "X_train_toks = tokenizer.texts_to_sequences(X_train)\n",
    "X_test_toks = tokenizer.texts_to_sequences(X_test)\n",
    "\n",
    "# Overall vocabulary size\n",
    "vocab_size = len(tokenizer.word_index) + 1 "
   ]
  },
  {
   "cell_type": "code",
   "execution_count": 136,
   "metadata": {},
   "outputs": [
    {
     "data": {
      "text/plain": [
       "3565"
      ]
     },
     "execution_count": 136,
     "metadata": {},
     "output_type": "execute_result"
    }
   ],
   "source": [
    "len(X_train_toks)"
   ]
  },
  {
   "cell_type": "code",
   "execution_count": 137,
   "metadata": {},
   "outputs": [
    {
     "data": {
      "text/plain": [
       "9158"
      ]
     },
     "execution_count": 137,
     "metadata": {},
     "output_type": "execute_result"
    }
   ],
   "source": [
    "vocab_size"
   ]
  },
  {
   "cell_type": "code",
   "execution_count": null,
   "metadata": {},
   "outputs": [],
   "source": []
  }
 ],
 "metadata": {
  "kernelspec": {
   "display_name": "lang101",
   "language": "python",
   "name": "lang101"
  },
  "language_info": {
   "codemirror_mode": {
    "name": "ipython",
    "version": 3
   },
   "file_extension": ".py",
   "mimetype": "text/x-python",
   "name": "python",
   "nbconvert_exporter": "python",
   "pygments_lexer": "ipython3",
   "version": "3.6.9"
  }
 },
 "nbformat": 4,
 "nbformat_minor": 4
}
